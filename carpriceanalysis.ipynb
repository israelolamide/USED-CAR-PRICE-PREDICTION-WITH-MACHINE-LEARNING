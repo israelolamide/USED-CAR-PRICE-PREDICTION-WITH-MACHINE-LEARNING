{
 "cells": [
  {
   "cell_type": "code",
   "execution_count": null,
   "id": "146164d2",
   "metadata": {},
   "outputs": [],
   "source": [
    "!pip install jovian opendatasets --upgrade --quiet #To install the open dataset library"
   ]
  },
  {
   "cell_type": "code",
   "execution_count": null,
   "id": "7f450bb8",
   "metadata": {},
   "outputs": [],
   "source": [
    "dataset_url = 'https://www.kaggle.com/ananaymital/us-used-cars-dataset' #Dataset used in the project"
   ]
  },
  {
   "cell_type": "code",
   "execution_count": null,
   "id": "9b25d505",
   "metadata": {},
   "outputs": [],
   "source": [
    "import opendatasets as od\n",
    "od.download(dataset_url) #Downloading the dataset"
   ]
  },
  {
   "cell_type": "code",
   "execution_count": null,
   "id": "b97613f4",
   "metadata": {},
   "outputs": [],
   "source": [
    "data_dir = './us-used-cars-dataset' #Directory for Dataset"
   ]
  },
  {
   "cell_type": "code",
   "execution_count": null,
   "id": "8efe50f3",
   "metadata": {},
   "outputs": [],
   "source": [
    "import os\n",
    "os.listdir(data_dir) #To see the file that we have downloaded"
   ]
  },
  {
   "cell_type": "code",
   "execution_count": null,
   "id": "85cf0f02",
   "metadata": {},
   "outputs": [],
   "source": [
    "import pandas as pd #importing pandas library to work on dataframes\n",
    "import numpy as np   #importing numpy library to use python array functions"
   ]
  },
  {
   "cell_type": "code",
   "execution_count": null,
   "id": "b437b469",
   "metadata": {},
   "outputs": [],
   "source": [
    "usedcars_csv = './us-used-cars-dataset/used_cars_data.csv'"
   ]
  },
  {
   "cell_type": "code",
   "execution_count": null,
   "id": "04195d4e",
   "metadata": {},
   "outputs": [],
   "source": [
    "%%time\n",
    "usedcars_df = pd.read_csv(usedcars_csv,  low_memory=False, nrows=1000000) "
   ]
  },
  {
   "cell_type": "code",
   "execution_count": null,
   "id": "b1f23ae1",
   "metadata": {},
   "outputs": [],
   "source": [
    "usedcars_df.shape #shape() tells us about the number of rows and columns in a datset"
   ]
  },
  {
   "cell_type": "code",
   "execution_count": null,
   "id": "8707de5e",
   "metadata": {},
   "outputs": [],
   "source": [
    "usedcars_df.head(2) #head() functions shows us the top 2 rows of the dataframe"
   ]
  },
  {
   "cell_type": "code",
   "execution_count": null,
   "id": "236b1b2d",
   "metadata": {},
   "outputs": [],
   "source": [
    "selected_cols= ['city','daysonmarket','dealer_zip','engine_cylinders','frame_damaged','make_name','horsepower','listed_date','latitude','longitude','price','wheel_system','seller_rating','maximum_seating','sp_name']\n",
    "# Selecting the columns that will be used for the analysis"
   ]
  },
  {
   "cell_type": "code",
   "execution_count": null,
   "id": "d5583890",
   "metadata": {},
   "outputs": [],
   "source": [
    "%%time\n",
    "usedcars_df_cols = pd.read_csv(usedcars_csv,  low_memory=False, nrows= 1500000, usecols=selected_cols)\n",
    "usedcars_df_cols.head(2)"
   ]
  },
  {
   "cell_type": "code",
   "execution_count": null,
   "id": "b1feb41b",
   "metadata": {},
   "outputs": [],
   "source": [
    "usedcars_df_cols.describe().round(3) #describe() function is used to get statistical info about numerical columns"
   ]
  },
  {
   "cell_type": "code",
   "execution_count": null,
   "id": "f23c9826",
   "metadata": {},
   "outputs": [],
   "source": [
    "with pd.option_context('display.max_rows', None, 'display.max_columns', None):\n",
    "    print(usedcars_df_cols.dtypes) #Here, I look at the datatypes for the selected columns from the dataset. "
   ]
  },
  {
   "cell_type": "code",
   "execution_count": null,
   "id": "4a251b12",
   "metadata": {},
   "outputs": [],
   "source": [
    "selected_dtypes={\n",
    "    'daysonmarket' : 'int32',\n",
    "    'horsepower' :'float32',\n",
    "    'latitude' : 'float32',\n",
    "    'longitude' : 'float32',\n",
    "    'price':'float32',\n",
    "    'seller_rating': 'float32'\n",
    "}"
   ]
  },
  {
   "cell_type": "code",
   "execution_count": null,
   "id": "5edcf717",
   "metadata": {},
   "outputs": [],
   "source": [
    "%%time\n",
    "usedcars_df_sample = pd.read_csv(usedcars_csv,  low_memory=False, nrows= 1500000, usecols=selected_cols, dtype=selected_dtypes, parse_dates=['listed_date'])"
   ]
  },
  {
   "cell_type": "code",
   "execution_count": null,
   "id": "6c003549",
   "metadata": {},
   "outputs": [],
   "source": [
    "usedcars_df_sample.shape #This shows the final dataframe with 1.5mn rows and 15 columns that will be used for the analysis"
   ]
  },
  {
   "cell_type": "code",
   "execution_count": null,
   "id": "cc197516",
   "metadata": {},
   "outputs": [],
   "source": [
    "usedcars_df_sample.head() #This shows the top 5 rows of the final dataframe"
   ]
  },
  {
   "cell_type": "code",
   "execution_count": null,
   "id": "4ae6a174",
   "metadata": {},
   "outputs": [],
   "source": [
    "usedcars_df_sample.isnull().sum() #isnull() function along with sum() gives a count of the missing values from each column"
   ]
  },
  {
   "cell_type": "code",
   "execution_count": null,
   "id": "ea194a5b",
   "metadata": {},
   "outputs": [],
   "source": [
    "!pip install pyarrow --upgrade --quiet "
   ]
  },
  {
   "cell_type": "code",
   "execution_count": null,
   "id": "f3a35b59",
   "metadata": {},
   "outputs": [],
   "source": [
    "usedcars_df_sample.to_feather('usedcars.feather')"
   ]
  },
  {
   "cell_type": "code",
   "execution_count": null,
   "id": "8583c14a",
   "metadata": {},
   "outputs": [],
   "source": [
    "%%time\n",
    "final_sample_df = pd.read_feather('usedcars.feather')"
   ]
  },
  {
   "cell_type": "code",
   "execution_count": null,
   "id": "23668123",
   "metadata": {},
   "outputs": [],
   "source": [
    "final_sample_df.shape"
   ]
  },
  {
   "cell_type": "code",
   "execution_count": null,
   "id": "427f84e5",
   "metadata": {},
   "outputs": [],
   "source": [
    "final_sample_df.duplicated().sum()  #duplicated() function checks for duplicates"
   ]
  },
  {
   "cell_type": "code",
   "execution_count": null,
   "id": "0a1d7194",
   "metadata": {},
   "outputs": [],
   "source": [
    "final_sample_df=final_sample_df.drop_duplicates() #drop_duplicates() is used to drop all the duplicate entries in the dataframe"
   ]
  },
  {
   "cell_type": "code",
   "execution_count": null,
   "id": "447158d8",
   "metadata": {},
   "outputs": [],
   "source": [
    "final_sample_df.shape # As we can see, we have removed the 1L duplicate values"
   ]
  },
  {
   "cell_type": "code",
   "execution_count": null,
   "id": "a69cdc96",
   "metadata": {},
   "outputs": [],
   "source": [
    "final_sample_df.isnull().sum() #isnull() along with sum() tells the count for missing values"
   ]
  },
  {
   "cell_type": "code",
   "execution_count": null,
   "id": "663f5332",
   "metadata": {},
   "outputs": [],
   "source": [
    "final_sample_df.engine_cylinders.unique() #unique() functions shows us the unique values in the column"
   ]
  },
  {
   "cell_type": "code",
   "execution_count": null,
   "id": "ec705c4a",
   "metadata": {},
   "outputs": [],
   "source": [
    "final_sample_df['engine_cylinders'].isna().sum() #isna() shows count of missing values"
   ]
  },
  {
   "cell_type": "code",
   "execution_count": null,
   "id": "e0619b8c",
   "metadata": {},
   "outputs": [],
   "source": [
    "final_sample_df = final_sample_df.replace(r'^\\s+$', np.nan, regex=True) #replace function here replaces empty strings with Nan which we can then fill using fillna()"
   ]
  },
  {
   "cell_type": "code",
   "execution_count": null,
   "id": "7937a3aa",
   "metadata": {},
   "outputs": [],
   "source": [
    "final_sample_df['engine_cylinders'] = final_sample_df['engine_cylinders'].fillna(value = 'Unknown') #fillna() is used to fill the Nan Values with the specified value"
   ]
  },
  {
   "cell_type": "code",
   "execution_count": null,
   "id": "d3f97306",
   "metadata": {},
   "outputs": [],
   "source": [
    "final_sample_df['engine_cylinders'].isna().sum()"
   ]
  },
  {
   "cell_type": "code",
   "execution_count": null,
   "id": "74ab4f92",
   "metadata": {},
   "outputs": [],
   "source": [
    "final_sample_df.shape"
   ]
  },
  {
   "cell_type": "code",
   "execution_count": null,
   "id": "55e61019",
   "metadata": {},
   "outputs": [],
   "source": [
    "final_sample_df['frame_damaged'].value_counts()"
   ]
  },
  {
   "cell_type": "code",
   "execution_count": null,
   "id": "40122cb6",
   "metadata": {},
   "outputs": [],
   "source": [
    "final_sample_df['frame_damaged'].isna().sum()"
   ]
  },
  {
   "cell_type": "code",
   "execution_count": null,
   "id": "bbf0038d",
   "metadata": {},
   "outputs": [],
   "source": [
    "final_sample_df['frame_damaged'] = final_sample_df['frame_damaged'].fillna(value = 'Unknown')"
   ]
  },
  {
   "cell_type": "code",
   "execution_count": null,
   "id": "d7845a50",
   "metadata": {},
   "outputs": [],
   "source": [
    "final_sample_df['frame_damaged'].isna().sum()"
   ]
  },
  {
   "cell_type": "code",
   "execution_count": null,
   "id": "a2d9f5eb",
   "metadata": {},
   "outputs": [],
   "source": [
    "final_sample_df.shape"
   ]
  },
  {
   "cell_type": "code",
   "execution_count": null,
   "id": "cd57f5ec",
   "metadata": {},
   "outputs": [],
   "source": [
    "final_sample_df['frame_damaged'].unique()"
   ]
  },
  {
   "cell_type": "code",
   "execution_count": null,
   "id": "ddcd14ad",
   "metadata": {},
   "outputs": [],
   "source": [
    "final_sample_df['horsepower'].isna().sum() "
   ]
  },
  {
   "cell_type": "code",
   "execution_count": null,
   "id": "7ff3321b",
   "metadata": {},
   "outputs": [],
   "source": [
    "final_sample_df.horsepower.nunique() #nunique() function gives count of unique values"
   ]
  },
  {
   "cell_type": "code",
   "execution_count": null,
   "id": "2bc31d13",
   "metadata": {},
   "outputs": [],
   "source": [
    "a = final_sample_df['horsepower'].describe()\n",
    "a.round(2)"
   ]
  },
  {
   "cell_type": "code",
   "execution_count": null,
   "id": "934ef945",
   "metadata": {},
   "outputs": [],
   "source": [
    "import random\n",
    "final_sample_df['horsepower'].fillna(random.uniform(200,300),inplace=True)\n",
    "#fillna() is used to fill the NaN values of a column \n",
    "#random() function generates random variables between the said arguments"
   ]
  },
  {
   "cell_type": "code",
   "execution_count": null,
   "id": "7ffd77b0",
   "metadata": {},
   "outputs": [],
   "source": [
    "a = final_sample_df.horsepower.describe()\n",
    "a.round(2)"
   ]
  },
  {
   "cell_type": "code",
   "execution_count": null,
   "id": "08ff3141",
   "metadata": {},
   "outputs": [],
   "source": [
    "final_sample_df['maximum_seating'].isna().sum()"
   ]
  },
  {
   "cell_type": "code",
   "execution_count": null,
   "id": "7a3e1263",
   "metadata": {},
   "outputs": [],
   "source": [
    "final_sample_df['maximum_seating'].unique()"
   ]
  },
  {
   "cell_type": "code",
   "execution_count": null,
   "id": "856deba1",
   "metadata": {},
   "outputs": [],
   "source": [
    "final_sample_df['maximum_seating'].value_counts()"
   ]
  },
  {
   "cell_type": "code",
   "execution_count": null,
   "id": "8062d595",
   "metadata": {},
   "outputs": [],
   "source": [
    "final_sample_df['maximum_seating'].fillna(value='5 seats', inplace=True)"
   ]
  },
  {
   "cell_type": "code",
   "execution_count": null,
   "id": "82512ba1",
   "metadata": {},
   "outputs": [],
   "source": [
    "final_sample_df['maximum_seating'].isna().sum()"
   ]
  },
  {
   "cell_type": "code",
   "execution_count": null,
   "id": "f7486cc0",
   "metadata": {},
   "outputs": [],
   "source": [
    "final_sample_df['maximum_seating'].unique()"
   ]
  },
  {
   "cell_type": "code",
   "execution_count": null,
   "id": "c877b616",
   "metadata": {},
   "outputs": [],
   "source": [
    "final_sample_df = final_sample_df[~final_sample_df['maximum_seating'].isin(['--'])]\n",
    "# ~(negation) symbol is used to reverse the output of our condition"
   ]
  },
  {
   "cell_type": "code",
   "execution_count": null,
   "id": "8c2c24eb",
   "metadata": {},
   "outputs": [],
   "source": [
    "final_sample_df['maximum_seating'].unique()"
   ]
  },
  {
   "cell_type": "code",
   "execution_count": null,
   "id": "9a1ac31b",
   "metadata": {},
   "outputs": [],
   "source": [
    "def num(value):\n",
    "  return value.split()[0]"
   ]
  },
  {
   "cell_type": "code",
   "execution_count": null,
   "id": "b7e55c93",
   "metadata": {},
   "outputs": [],
   "source": [
    "final_sample_df['maximum_seating'].astype(str)"
   ]
  },
  {
   "cell_type": "code",
   "execution_count": null,
   "id": "598e18de",
   "metadata": {},
   "outputs": [],
   "source": [
    "final_sample_df['maximum_seating'].astype(str)\n",
    "\n",
    "final_sample_df['maximum_seating'] = final_sample_df['maximum_seating'].apply(num)\n",
    "#apply() function is used to apply the function to each row of the said column one by one.\n",
    "\n",
    "final_sample_df['maximum_seating'] = final_sample_df['maximum_seating'].astype(np.int32)\n",
    "# Here, I convert the column into a numerical column for efficiency and effectivness"
   ]
  },
  {
   "cell_type": "code",
   "execution_count": null,
   "id": "60f00f0f",
   "metadata": {},
   "outputs": [],
   "source": [
    "final_sample_df['maximum_seating'].unique()"
   ]
  },
  {
   "cell_type": "code",
   "execution_count": null,
   "id": "24932075",
   "metadata": {},
   "outputs": [],
   "source": [
    "final_sample_df['seller_rating'].isna().sum()"
   ]
  },
  {
   "cell_type": "code",
   "execution_count": null,
   "id": "4c4734bf",
   "metadata": {},
   "outputs": [],
   "source": [
    "final_sample_df['seller_rating'].value_counts()"
   ]
  },
  {
   "cell_type": "code",
   "execution_count": null,
   "id": "e72db23c",
   "metadata": {},
   "outputs": [],
   "source": [
    "final_sample_df.dropna(subset= ['seller_rating'], inplace=True)"
   ]
  },
  {
   "cell_type": "code",
   "execution_count": null,
   "id": "bf12cec8",
   "metadata": {},
   "outputs": [],
   "source": [
    "final_sample_df['seller_rating'].isna().sum()"
   ]
  },
  {
   "cell_type": "code",
   "execution_count": null,
   "id": "2a74b1d7",
   "metadata": {},
   "outputs": [],
   "source": [
    "final_sample_df['wheel_system'].isna().sum()"
   ]
  },
  {
   "cell_type": "code",
   "execution_count": null,
   "id": "61f5df28",
   "metadata": {},
   "outputs": [],
   "source": [
    "final_sample_df['wheel_system'].unique()"
   ]
  },
  {
   "cell_type": "code",
   "execution_count": null,
   "id": "882d48c8",
   "metadata": {},
   "outputs": [],
   "source": [
    "final_sample_df['wheel_system'].dropna(inplace=True)"
   ]
  },
  {
   "cell_type": "code",
   "execution_count": null,
   "id": "f398de8f",
   "metadata": {},
   "outputs": [],
   "source": [
    "final_sample_df = final_sample_df[final_sample_df['wheel_system'].isin(['AWD', 'FWD', '4WD', 'RWD', '4X2'])]"
   ]
  },
  {
   "cell_type": "code",
   "execution_count": null,
   "id": "3270fd74",
   "metadata": {},
   "outputs": [],
   "source": [
    "final_sample_df['wheel_system'].isna().sum()"
   ]
  },
  {
   "cell_type": "code",
   "execution_count": null,
   "id": "5b07deb2",
   "metadata": {},
   "outputs": [],
   "source": [
    "final_sample_df.isna().sum()"
   ]
  },
  {
   "cell_type": "code",
   "execution_count": null,
   "id": "e0844e78",
   "metadata": {},
   "outputs": [],
   "source": [
    "final_sample_df.info()"
   ]
  },
  {
   "cell_type": "code",
   "execution_count": null,
   "id": "ed8ca58d",
   "metadata": {},
   "outputs": [],
   "source": [
    "final_sample_df.reset_index(drop='index',inplace=True) #This is to reset the index starting from 0 to 1320724\n",
    "final_sample_df"
   ]
  },
  {
   "cell_type": "code",
   "execution_count": null,
   "id": "c88f89f9",
   "metadata": {},
   "outputs": [],
   "source": [
    "final_sample_df.to_csv('final_clean_df.csv') #to save the 'Dataframe' as a 'CSV' file"
   ]
  },
  {
   "cell_type": "code",
   "execution_count": null,
   "id": "7dfebcb4",
   "metadata": {},
   "outputs": [],
   "source": [
    "import seaborn as sns\n",
    "import matplotlib\n",
    "import matplotlib.pyplot as plt\n",
    "import plotly.express as px\n",
    "%matplotlib inline\n",
    "\n",
    "sns.set_style('darkgrid')\n",
    "matplotlib.rcParams['font.size'] = 14\n",
    "matplotlib.rcParams['figure.figsize'] = (9, 5)\n",
    "matplotlib.rcParams['figure.facecolor'] = '#00000000'"
   ]
  },
  {
   "cell_type": "code",
   "execution_count": null,
   "id": "5c23c3ff",
   "metadata": {},
   "outputs": [],
   "source": [
    "final_sample_df.describe().round(3)"
   ]
  },
  {
   "cell_type": "code",
   "execution_count": null,
   "id": "6055239b",
   "metadata": {},
   "outputs": [],
   "source": [
    "fig = px.histogram(final_sample_df, x=\"daysonmarket\", marginal=\"box\", title='Number of days in the market')\n",
    "fig.update_layout(yaxis_title = 'Number of cars')\n",
    "fig.show()"
   ]
  },
  {
   "cell_type": "code",
   "execution_count": null,
   "id": "08311b1f",
   "metadata": {},
   "outputs": [],
   "source": [
    "maxseats = final_sample_df['maximum_seating'].value_counts()"
   ]
  },
  {
   "cell_type": "code",
   "execution_count": null,
   "id": "1ab1cf06",
   "metadata": {},
   "outputs": [],
   "source": [
    "maxseats.plot.bar()\n",
    "plt.title(\"Maximum Seating in Used Cars\");\n",
    "plt.xlabel(\"Maximum Seating\");\n",
    "plt.ylabel(\"Number of cars\");"
   ]
  },
  {
   "cell_type": "code",
   "execution_count": null,
   "id": "8949971c",
   "metadata": {},
   "outputs": [],
   "source": [
    "wheelsys = final_sample_df['wheel_system'].value_counts()"
   ]
  },
  {
   "cell_type": "code",
   "execution_count": null,
   "id": "acf5304f",
   "metadata": {},
   "outputs": [],
   "source": [
    "wheelsys.plot.pie(autopct='%1.2f%%',radius=1.8,figsize=(5,5),startangle=180);\n",
    "plt.title('WHEEL SYSTEMS IN CAR', y= 1.3);"
   ]
  },
  {
   "cell_type": "code",
   "execution_count": null,
   "id": "55813d69",
   "metadata": {},
   "outputs": [],
   "source": [
    "fig = px.histogram(final_sample_df, x=\"price\", marginal=\"box\", title='Price Distribution of Used Cars')\n",
    "fig.update_layout(yaxis_title = 'Number of cars')"
   ]
  },
  {
   "cell_type": "code",
   "execution_count": null,
   "id": "971121cf",
   "metadata": {},
   "outputs": [],
   "source": [
    "final_sample_df['price'].sort_values(ascending = True).iloc[1300000]"
   ]
  },
  {
   "cell_type": "code",
   "execution_count": null,
   "id": "bdf0ca4a",
   "metadata": {},
   "outputs": [],
   "source": [
    "a = final_sample_df['price'].sort_values(ascending = True).iloc[:1300000]\n",
    "df = pd.DataFrame(a)"
   ]
  },
  {
   "cell_type": "code",
   "execution_count": null,
   "id": "909ff2b1",
   "metadata": {},
   "outputs": [],
   "source": [
    "fig = px.histogram(df, x=\"price\", marginal=\"box\", title='Price Distribution of Most Used Cars')\n",
    "fig.update_layout(yaxis_title = 'Number of cars')"
   ]
  },
  {
   "cell_type": "code",
   "execution_count": null,
   "id": "9be63bc5",
   "metadata": {},
   "outputs": [],
   "source": [
    "#px.histogram(final_sample_df, x='seller_rating');\n",
    "#plt.boxplot(final_sample_df['seller_rating']);\n",
    "sns.set_theme(style=\"ticks\");\n",
    "fig = sns.boxplot(x=final_sample_df['seller_rating']);\n",
    "fig.set(xlabel='Seller Ratings')\n",
    "plt.title(\"Used Cars Sellers Ratings\");\n",
    "plt.show();"
   ]
  },
  {
   "cell_type": "code",
   "execution_count": null,
   "id": "679c3fb8",
   "metadata": {},
   "outputs": [],
   "source": [
    "px.scatter(final_sample_df,x='horsepower',y='price',title='Price Vs Horsepower')"
   ]
  },
  {
   "cell_type": "code",
   "execution_count": null,
   "id": "bef96dcc",
   "metadata": {},
   "outputs": [],
   "source": [
    "df = final_sample_df[['make_name']]\n",
    "df = df.make_name.value_counts().head(30).sort_values(ascending = True)\n",
    "df = pd.DataFrame(df)"
   ]
  },
  {
   "cell_type": "code",
   "execution_count": null,
   "id": "ac8f9f5d",
   "metadata": {},
   "outputs": [],
   "source": [
    "df.plot(kind='barh',figsize=(15,10),title='Number of Cars per Brand in Used Car Market',xlabel='Brand Name',ylabel='Number of cars');"
   ]
  },
  {
   "cell_type": "code",
   "execution_count": null,
   "id": "5b95f0a1",
   "metadata": {},
   "outputs": [],
   "source": [
    "df = final_sample_df[['city','price']]\n",
    "df1 = df.groupby('city')[['price']].count().sort_values('price',ascending= False) #To check number of cars for sale in each city\n",
    "df2 = df1.head(30).sort_values('price',ascending=True);"
   ]
  },
  {
   "cell_type": "code",
   "execution_count": null,
   "id": "8c3df694",
   "metadata": {},
   "outputs": [],
   "source": [
    "df2.plot(kind='barh',legend=False,xlabel='City',ylabel='Number of cars for sale', title='Top Cities Having Used Cars in Market',figsize=(13,8));"
   ]
  },
  {
   "cell_type": "code",
   "execution_count": null,
   "id": "4e9809c5",
   "metadata": {},
   "outputs": [],
   "source": [
    "final_sample_df['year']=final_sample_df['listed_date'].dt.year\n",
    "final_sample_df['month']=final_sample_df['listed_date'].dt.month"
   ]
  },
  {
   "cell_type": "code",
   "execution_count": null,
   "id": "5164afe9",
   "metadata": {},
   "outputs": [],
   "source": [
    "df1 = final_sample_df.sort_values(by='price', ascending= True)\n",
    "df1 = df1.iloc[:1300000]\n",
    "df2 = df1.groupby(['year','month'])['price'].median()\n",
    "df3 = df2.reset_index()\n",
    "df4 = df3.pivot('year','month','price')\n",
    "plt.figure(figsize = (16,8))\n",
    "sns.heatmap(df4,fmt=\"d\",cmap='Greens');"
   ]
  },
  {
   "cell_type": "code",
   "execution_count": null,
   "id": "1ba6b4ff",
   "metadata": {},
   "outputs": [],
   "source": [
    "dmg = final_sample_df['frame_damaged'].value_counts()\n",
    "dmg"
   ]
  },
  {
   "cell_type": "code",
   "execution_count": null,
   "id": "306ecc17",
   "metadata": {},
   "outputs": [],
   "source": [
    "mylabels = [\"Not Damaged\",\"Unknown\",\"Damaged\"]\n",
    "dmg.plot.pie(autopct='%1.2f%%',radius=1.5,figsize=(5,5),startangle=180,labels=mylabels);\n",
    "plt.title('Damaged Vs Non Damaged Cars', y= 1.1,x=1.5);"
   ]
  },
  {
   "cell_type": "code",
   "execution_count": null,
   "id": "2f4dd2cc",
   "metadata": {},
   "outputs": [],
   "source": [
    "df = final_sample_df.groupby('make_name')['daysonmarket'].median().sort_values(ascending=True)\n",
    "df.plot(kind='bar',figsize=(22,10),title='Time taken by Brands to resell',xlabel='Brands',ylabel='Number of Days');"
   ]
  },
  {
   "cell_type": "code",
   "execution_count": null,
   "id": "d12262e0",
   "metadata": {},
   "outputs": [],
   "source": [
    "df5 = final_sample_df[['make_name','price']]\n",
    "df6 = df5.groupby('make_name')['price'].mean().round(0)\n",
    "df7= {'Brand' : df6.index,\n",
    "    'Price' : df6.values\n",
    "      \n",
    "}"
   ]
  },
  {
   "cell_type": "code",
   "execution_count": null,
   "id": "6171d6d8",
   "metadata": {},
   "outputs": [],
   "source": [
    "df8 = pd.DataFrame(df7)\n",
    "df8.set_index('Brand')\n",
    "df8 = df8.sort_values(by=\"Price\",ascending=True)"
   ]
  },
  {
   "cell_type": "code",
   "execution_count": null,
   "id": "deccbe9e",
   "metadata": {},
   "outputs": [],
   "source": [
    "px.bar(df8,x='Brand',y='Price',barmode='group',range_y=[0,250000],title='Average Prices of Different Brands in Used Cars Market',width=1100,height=600)"
   ]
  },
  {
   "cell_type": "code",
   "execution_count": null,
   "id": "0edc68b7",
   "metadata": {},
   "outputs": [],
   "source": []
  },
  {
   "cell_type": "code",
   "execution_count": null,
   "id": "37ed1c82",
   "metadata": {},
   "outputs": [],
   "source": []
  }
 ],
 "metadata": {
  "kernelspec": {
   "display_name": "Python 3 (ipykernel)",
   "language": "python",
   "name": "python3"
  },
  "language_info": {
   "codemirror_mode": {
    "name": "ipython",
    "version": 3
   },
   "file_extension": ".py",
   "mimetype": "text/x-python",
   "name": "python",
   "nbconvert_exporter": "python",
   "pygments_lexer": "ipython3",
   "version": "3.9.13"
  }
 },
 "nbformat": 4,
 "nbformat_minor": 5
}
